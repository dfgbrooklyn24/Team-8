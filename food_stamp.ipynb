{
 "cells": [
  {
   "cell_type": "code",
   "execution_count": 5,
   "id": "87d572c3",
   "metadata": {
    "tags": []
   },
   "outputs": [
    {
     "name": "stderr",
     "output_type": "stream",
     "text": [
      "/tmp/ipykernel_112535/2642675764.py:4: DtypeWarning: Columns (2,3,4,5,6,7,8,9,10,11,12,13,14,15,16,17,18,19,20,21,22,23,24,25,26,27,28,29,30,31,32,33,34,35,36,37,38,39,40,41,42,43,44,45,46,47,48,49,50,51,52,53,54,55,56,57,58,59,60,61,62,63,64,65,66,67,70,71,72,73,74,75,76,77,154,155,156,157,158,159,160,161,162,163,164,165,166,167,168,169,170,171,172,173,174,175,176,177,178,179,180,181,182,183,184,185,186,187,188,189,190,191,192,193,194,195,196,197,198,199,200,201,202,203,204,205,206,207,208,209,210,211,212,213,214,215,216,217,218,219,222,223,224,225,226,227,228,229,306,307,308,309,310,311,312,313,314,315,316,317,318,319,320,321,322,323,324,325,326,327,328,329,330,331,332,333,334,335,336,337,338,339,340,341,342,343,344,345,346,347,348,349,350,351,352,353,354,355,356,357,358,359,360,361,362,363,364,365,366,367,368,369,370,371,374,375,376,377,378,379,380,381) have mixed types. Specify dtype option on import or set low_memory=False.\n",
      "  census_data = pd.read_csv('../shared_data_read_only/Census-Data/ACSST5Y2022.S2201-Data.csv', index_col=False)\n"
     ]
    }
   ],
   "source": [
    "import pandas as pd\n",
    "import numpy as np\n",
    "\n",
    "census_data = pd.read_csv('../shared_data_read_only/Census-Data/ACSST5Y2022.S2201-Data.csv', index_col=False)\n"
   ]
  },
  {
   "cell_type": "code",
   "execution_count": 6,
   "id": "b23de7c6",
   "metadata": {
    "tags": []
   },
   "outputs": [],
   "source": [
    "philly_df = census_data.loc[census_data['NAME'].str.contains(\"Philadelphia County\")]"
   ]
  },
  {
   "cell_type": "code",
   "execution_count": 7,
   "id": "693f5980",
   "metadata": {
    "tags": []
   },
   "outputs": [
    {
     "data": {
      "text/html": [
       "<div>\n",
       "<style scoped>\n",
       "    .dataframe tbody tr th:only-of-type {\n",
       "        vertical-align: middle;\n",
       "    }\n",
       "\n",
       "    .dataframe tbody tr th {\n",
       "        vertical-align: top;\n",
       "    }\n",
       "\n",
       "    .dataframe thead th {\n",
       "        text-align: right;\n",
       "    }\n",
       "</style>\n",
       "<table border=\"1\" class=\"dataframe\">\n",
       "  <thead>\n",
       "    <tr style=\"text-align: right;\">\n",
       "      <th></th>\n",
       "      <th>GEO_ID</th>\n",
       "      <th>NAME</th>\n",
       "      <th>S2201_C04_001E</th>\n",
       "    </tr>\n",
       "  </thead>\n",
       "  <tbody>\n",
       "    <tr>\n",
       "      <th>66156</th>\n",
       "      <td>1400000US42101017500</td>\n",
       "      <td>Census Tract 175; Philadelphia County; Pennsyl...</td>\n",
       "      <td>78.2</td>\n",
       "    </tr>\n",
       "    <tr>\n",
       "      <th>66159</th>\n",
       "      <td>1400000US42101017701</td>\n",
       "      <td>Census Tract 177.01; Philadelphia County; Penn...</td>\n",
       "      <td>74.3</td>\n",
       "    </tr>\n",
       "    <tr>\n",
       "      <th>66168</th>\n",
       "      <td>1400000US42101018802</td>\n",
       "      <td>Census Tract 188.02; Philadelphia County; Penn...</td>\n",
       "      <td>74.0</td>\n",
       "    </tr>\n",
       "    <tr>\n",
       "      <th>66158</th>\n",
       "      <td>1400000US42101017602</td>\n",
       "      <td>Census Tract 176.02; Philadelphia County; Penn...</td>\n",
       "      <td>73.8</td>\n",
       "    </tr>\n",
       "    <tr>\n",
       "      <th>66167</th>\n",
       "      <td>1400000US42101018801</td>\n",
       "      <td>Census Tract 188.01; Philadelphia County; Penn...</td>\n",
       "      <td>72.6</td>\n",
       "    </tr>\n",
       "    <tr>\n",
       "      <th>66142</th>\n",
       "      <td>1400000US42101016400</td>\n",
       "      <td>Census Tract 164; Philadelphia County; Pennsyl...</td>\n",
       "      <td>71.7</td>\n",
       "    </tr>\n",
       "    <tr>\n",
       "      <th>66173</th>\n",
       "      <td>1400000US42101019502</td>\n",
       "      <td>Census Tract 195.02; Philadelphia County; Penn...</td>\n",
       "      <td>68.4</td>\n",
       "    </tr>\n",
       "    <tr>\n",
       "      <th>66252</th>\n",
       "      <td>1400000US42101028500</td>\n",
       "      <td>Census Tract 285; Philadelphia County; Pennsyl...</td>\n",
       "      <td>68.0</td>\n",
       "    </tr>\n",
       "    <tr>\n",
       "      <th>66171</th>\n",
       "      <td>1400000US42101019200</td>\n",
       "      <td>Census Tract 192; Philadelphia County; Pennsyl...</td>\n",
       "      <td>67.7</td>\n",
       "    </tr>\n",
       "    <tr>\n",
       "      <th>66172</th>\n",
       "      <td>1400000US42101019501</td>\n",
       "      <td>Census Tract 195.01; Philadelphia County; Penn...</td>\n",
       "      <td>66.5</td>\n",
       "    </tr>\n",
       "    <tr>\n",
       "      <th>66157</th>\n",
       "      <td>1400000US42101017601</td>\n",
       "      <td>Census Tract 176.01; Philadelphia County; Penn...</td>\n",
       "      <td>64.8</td>\n",
       "    </tr>\n",
       "    <tr>\n",
       "      <th>66161</th>\n",
       "      <td>1400000US42101017800</td>\n",
       "      <td>Census Tract 178; Philadelphia County; Pennsyl...</td>\n",
       "      <td>62.5</td>\n",
       "    </tr>\n",
       "    <tr>\n",
       "      <th>66176</th>\n",
       "      <td>1400000US42101019900</td>\n",
       "      <td>Census Tract 199; Philadelphia County; Pennsyl...</td>\n",
       "      <td>62.0</td>\n",
       "    </tr>\n",
       "    <tr>\n",
       "      <th>66147</th>\n",
       "      <td>1400000US42101016800</td>\n",
       "      <td>Census Tract 168; Philadelphia County; Pennsyl...</td>\n",
       "      <td>61.2</td>\n",
       "    </tr>\n",
       "    <tr>\n",
       "      <th>66262</th>\n",
       "      <td>1400000US42101029400</td>\n",
       "      <td>Census Tract 294; Philadelphia County; Pennsyl...</td>\n",
       "      <td>60.4</td>\n",
       "    </tr>\n",
       "    <tr>\n",
       "      <th>66361</th>\n",
       "      <td>1400000US42101039001</td>\n",
       "      <td>Census Tract 390.01; Philadelphia County; Penn...</td>\n",
       "      <td>59.8</td>\n",
       "    </tr>\n",
       "    <tr>\n",
       "      <th>66251</th>\n",
       "      <td>1400000US42101028400</td>\n",
       "      <td>Census Tract 284; Philadelphia County; Pennsyl...</td>\n",
       "      <td>59.7</td>\n",
       "    </tr>\n",
       "    <tr>\n",
       "      <th>66141</th>\n",
       "      <td>1400000US42101016300</td>\n",
       "      <td>Census Tract 163; Philadelphia County; Pennsyl...</td>\n",
       "      <td>58.9</td>\n",
       "    </tr>\n",
       "    <tr>\n",
       "      <th>66254</th>\n",
       "      <td>1400000US42101028700</td>\n",
       "      <td>Census Tract 287; Philadelphia County; Pennsyl...</td>\n",
       "      <td>58.2</td>\n",
       "    </tr>\n",
       "    <tr>\n",
       "      <th>66143</th>\n",
       "      <td>1400000US42101016500</td>\n",
       "      <td>Census Tract 165; Philadelphia County; Pennsyl...</td>\n",
       "      <td>58.2</td>\n",
       "    </tr>\n",
       "  </tbody>\n",
       "</table>\n",
       "</div>"
      ],
      "text/plain": [
       "                     GEO_ID  \\\n",
       "66156  1400000US42101017500   \n",
       "66159  1400000US42101017701   \n",
       "66168  1400000US42101018802   \n",
       "66158  1400000US42101017602   \n",
       "66167  1400000US42101018801   \n",
       "66142  1400000US42101016400   \n",
       "66173  1400000US42101019502   \n",
       "66252  1400000US42101028500   \n",
       "66171  1400000US42101019200   \n",
       "66172  1400000US42101019501   \n",
       "66157  1400000US42101017601   \n",
       "66161  1400000US42101017800   \n",
       "66176  1400000US42101019900   \n",
       "66147  1400000US42101016800   \n",
       "66262  1400000US42101029400   \n",
       "66361  1400000US42101039001   \n",
       "66251  1400000US42101028400   \n",
       "66141  1400000US42101016300   \n",
       "66254  1400000US42101028700   \n",
       "66143  1400000US42101016500   \n",
       "\n",
       "                                                    NAME  S2201_C04_001E  \n",
       "66156  Census Tract 175; Philadelphia County; Pennsyl...            78.2  \n",
       "66159  Census Tract 177.01; Philadelphia County; Penn...            74.3  \n",
       "66168  Census Tract 188.02; Philadelphia County; Penn...            74.0  \n",
       "66158  Census Tract 176.02; Philadelphia County; Penn...            73.8  \n",
       "66167  Census Tract 188.01; Philadelphia County; Penn...            72.6  \n",
       "66142  Census Tract 164; Philadelphia County; Pennsyl...            71.7  \n",
       "66173  Census Tract 195.02; Philadelphia County; Penn...            68.4  \n",
       "66252  Census Tract 285; Philadelphia County; Pennsyl...            68.0  \n",
       "66171  Census Tract 192; Philadelphia County; Pennsyl...            67.7  \n",
       "66172  Census Tract 195.01; Philadelphia County; Penn...            66.5  \n",
       "66157  Census Tract 176.01; Philadelphia County; Penn...            64.8  \n",
       "66161  Census Tract 178; Philadelphia County; Pennsyl...            62.5  \n",
       "66176  Census Tract 199; Philadelphia County; Pennsyl...            62.0  \n",
       "66147  Census Tract 168; Philadelphia County; Pennsyl...            61.2  \n",
       "66262  Census Tract 294; Philadelphia County; Pennsyl...            60.4  \n",
       "66361  Census Tract 390.01; Philadelphia County; Penn...            59.8  \n",
       "66251  Census Tract 284; Philadelphia County; Pennsyl...            59.7  \n",
       "66141  Census Tract 163; Philadelphia County; Pennsyl...            58.9  \n",
       "66254  Census Tract 287; Philadelphia County; Pennsyl...            58.2  \n",
       "66143  Census Tract 165; Philadelphia County; Pennsyl...            58.2  "
      ]
     },
     "execution_count": 7,
     "metadata": {},
     "output_type": "execute_result"
    }
   ],
   "source": [
    "food_stamps = philly_df[[\"GEO_ID\", \"NAME\", \"S2201_C04_001E\"]]\n",
    "\n",
    "food_stamps = food_stamps[food_stamps[\"S2201_C04_001E\"] != '-']\n",
    "food_stamps[\"S2201_C04_001E\"] = food_stamps[\"S2201_C04_001E\"].astype(float)\n",
    "\n",
    "food_sorted = food_stamps.sort_values(by=[\"S2201_C04_001E\"], ascending=False)\n",
    "food_sorted.head(20)"
   ]
  },
  {
   "cell_type": "code",
   "execution_count": 8,
   "id": "89a3b10d",
   "metadata": {
    "tags": []
   },
   "outputs": [],
   "source": [
    "food_geo_id = food_sorted['GEO_ID'].to_numpy()[0:20]"
   ]
  },
  {
   "cell_type": "code",
   "execution_count": 9,
   "id": "f4cb5ab8",
   "metadata": {
    "tags": []
   },
   "outputs": [
    {
     "name": "stdout",
     "output_type": "stream",
     "text": [
      "                     GEO_ID  \\\n",
      "66167  1400000US42101018801   \n",
      "66127  1400000US42101014700   \n",
      "66252  1400000US42101028500   \n",
      "66158  1400000US42101017602   \n",
      "66133  1400000US42101015300   \n",
      "66172  1400000US42101019501   \n",
      "66173  1400000US42101019502   \n",
      "66174  1400000US42101019700   \n",
      "66091  1400000US42101011000   \n",
      "66160  1400000US42101017702   \n",
      "66262  1400000US42101029400   \n",
      "66087  1400000US42101010600   \n",
      "66142  1400000US42101016400   \n",
      "66211  1400000US42101024500   \n",
      "66147  1400000US42101016800   \n",
      "66363  1400000US42101039100   \n",
      "66168  1400000US42101018802   \n",
      "66266  1400000US42101030100   \n",
      "66177  1400000US42101020000   \n",
      "66128  1400000US42101014800   \n",
      "\n",
      "                                                    NAME  S2201_C02_021E  \n",
      "66167  Census Tract 188.01; Philadelphia County; Penn...            67.4  \n",
      "66127  Census Tract 147; Philadelphia County; Pennsyl...            66.7  \n",
      "66252  Census Tract 285; Philadelphia County; Pennsyl...            62.3  \n",
      "66158  Census Tract 176.02; Philadelphia County; Penn...            57.0  \n",
      "66133  Census Tract 153; Philadelphia County; Pennsyl...            55.8  \n",
      "66172  Census Tract 195.01; Philadelphia County; Penn...            54.9  \n",
      "66173  Census Tract 195.02; Philadelphia County; Penn...            54.9  \n",
      "66174  Census Tract 197; Philadelphia County; Pennsyl...            54.2  \n",
      "66091  Census Tract 110; Philadelphia County; Pennsyl...            53.5  \n",
      "66160  Census Tract 177.02; Philadelphia County; Penn...            53.2  \n",
      "66262  Census Tract 294; Philadelphia County; Pennsyl...            52.5  \n",
      "66087  Census Tract 106; Philadelphia County; Pennsyl...            52.1  \n",
      "66142  Census Tract 164; Philadelphia County; Pennsyl...            51.7  \n",
      "66211  Census Tract 245; Philadelphia County; Pennsyl...            51.1  \n",
      "66147  Census Tract 168; Philadelphia County; Pennsyl...            51.0  \n",
      "66363  Census Tract 391; Philadelphia County; Pennsyl...            50.2  \n",
      "66168  Census Tract 188.02; Philadelphia County; Penn...            50.1  \n",
      "66266  Census Tract 301; Philadelphia County; Pennsyl...            50.1  \n",
      "66177  Census Tract 200; Philadelphia County; Pennsyl...            49.8  \n",
      "66128  Census Tract 148; Philadelphia County; Pennsyl...            49.6  \n"
     ]
    }
   ],
   "source": [
    "belowPov = philly_df[[\"GEO_ID\",\"NAME\",\"S2201_C02_021E\"]]\n",
    "belowPov = belowPov[belowPov[\"S2201_C02_021E\"] != '-']\n",
    "belowPov[\"S2201_C02_021E\"] = belowPov[\"S2201_C02_021E\"].astype(float)\n",
    "belowPov_sorted = belowPov.sort_values(by = [\"S2201_C02_021E\"], ascending=False)\n",
    "\n",
    "belowPov_sorted.head(20)\n",
    "print(belowPov_sorted.head(20))\n",
    "belowPov_GeoID = belowPov_sorted['GEO_ID'].to_numpy()[0:20]"
   ]
  },
  {
   "cell_type": "code",
   "execution_count": 10,
   "id": "e13ddfa4",
   "metadata": {
    "tags": []
   },
   "outputs": [],
   "source": [
    "med_inc = philly_df[[\"GEO_ID\", \"NAME\", \"S2201_C01_034E\"]]\n",
    "\n",
    "med_inc = med_inc[med_inc[\"S2201_C01_034E\"] != '-']\n",
    "med_inc[\"S2201_C01_034E\"] = med_inc[\"S2201_C01_034E\"].astype(float)\n",
    "\n",
    "med_inc_sorted = med_inc.sort_values(by=[\"S2201_C01_034E\"], ascending=True)\n",
    "inc_sorted = med_inc_sorted.head(20)\n",
    "\n",
    "inc_GEO_ID = inc_sorted[\"GEO_ID\"].to_numpy()"
   ]
  },
  {
   "cell_type": "code",
   "execution_count": 11,
   "id": "6eb20fb3",
   "metadata": {
    "tags": []
   },
   "outputs": [],
   "source": [
    "res_array = []\n",
    "for i in range(20):\n",
    "    if (inc_GEO_ID[i] in belowPov_GeoID) and (inc_GEO_ID[i] in food_geo_id):\n",
    "        res_array.append(inc_GEO_ID[i])\n",
    "\n",
    "    "
   ]
  },
  {
   "cell_type": "code",
   "execution_count": 12,
   "id": "8aff0256",
   "metadata": {
    "tags": []
   },
   "outputs": [],
   "source": [
    "final_zips = philly_df[[\"GEO_ID\", \"NAME\", \"S2201_C01_001E\", \"S2201_C01_034E\", \"S2201_C02_009E\", \"S2201_C02_021E\", \"S2201_C02_026E\", \"S2201_C02_032E\", \"S2201_C04_001E\"]]\n",
    "final_zips = final_zips.loc[final_zips[\"GEO_ID\"].isin(res_array)]\n",
    "final_zips.rename(columns={'S2201_C01_001E': 'Total Households', 'S2201_C01_034E': 'Median Income', 'S2201_C02_009E': 'With Children', 'S2201_C02_021E': 'Below Poverty', 'S2201_C02_026E': 'Black or African American', 'S2201_C02_032E': 'Hispanic or Latino', 'S2201_C04_001E': 'Food Stamps'}, inplace=True)"
   ]
  },
  {
   "cell_type": "code",
   "execution_count": 13,
   "id": "84552762",
   "metadata": {
    "tags": []
   },
   "outputs": [],
   "source": [
    "zip_data = pd.read_csv('../shared_data_read_only/Geography-Mapping/ZIP_TRACT_122023.csv')\n",
    "\n"
   ]
  },
  {
   "cell_type": "code",
   "execution_count": 14,
   "id": "0c17d993",
   "metadata": {
    "tags": []
   },
   "outputs": [],
   "source": [
    "final_zip_codes = [19132, 19121, 19133, 19134, 19124]\n",
    "# for data in res_array:\n",
    "#     data = data[9:]\n",
    "#     zip_final = zip_data.query(f\"TRACT == {data}\")[\"ZIP\"].values\n",
    "#     for zipcode in zip_final:\n",
    "#         if zipcode != 19140:\n",
    "#             final_zip_codes.add(zipcode)"
   ]
  },
  {
   "cell_type": "code",
   "execution_count": 15,
   "id": "687212ef",
   "metadata": {
    "tags": []
   },
   "outputs": [
    {
     "data": {
      "text/plain": [
       "[19132, 19121, 19133, 19134, 19124]"
      ]
     },
     "execution_count": 15,
     "metadata": {},
     "output_type": "execute_result"
    }
   ],
   "source": [
    "final_zip_codes"
   ]
  },
  {
   "cell_type": "code",
   "execution_count": 16,
   "id": "7df766f2",
   "metadata": {
    "tags": []
   },
   "outputs": [],
   "source": [
    "final_zips.insert(0, 'Zip Code', final_zip_codes)"
   ]
  },
  {
   "cell_type": "code",
   "execution_count": 17,
   "id": "ec1726bf",
   "metadata": {
    "tags": []
   },
   "outputs": [
    {
     "name": "stdout",
     "output_type": "stream",
     "text": [
      "       Zip Code                GEO_ID  \\\n",
      "66142     19132  1400000US42101016400   \n",
      "66147     19121  1400000US42101016800   \n",
      "66167     19133  1400000US42101018801   \n",
      "66172     19134  1400000US42101019501   \n",
      "66262     19124  1400000US42101029400   \n",
      "\n",
      "                                                    NAME Total Households  \\\n",
      "66142  Census Tract 164; Philadelphia County; Pennsyl...             1698   \n",
      "66147  Census Tract 168; Philadelphia County; Pennsyl...             1517   \n",
      "66167  Census Tract 188.01; Philadelphia County; Penn...             1107   \n",
      "66172  Census Tract 195.01; Philadelphia County; Penn...             1877   \n",
      "66262  Census Tract 294; Philadelphia County; Pennsyl...             1343   \n",
      "\n",
      "      Median Income With Children Below Poverty Black or African American  \\\n",
      "66142         20915          41.8          51.7                      36.9   \n",
      "66147         15267          26.4          51.0                      90.4   \n",
      "66167         20010          42.3          67.4                       5.0   \n",
      "66172         23031          42.9          54.9                       5.3   \n",
      "66262         22649          43.4          52.5                      44.8   \n",
      "\n",
      "      Hispanic or Latino Food Stamps  \n",
      "66142               57.7        71.7  \n",
      "66147                6.2        61.2  \n",
      "66167               60.4        72.6  \n",
      "66172               92.3        66.5  \n",
      "66262               31.6        60.4  \n"
     ]
    }
   ],
   "source": [
    "print(final_zips)\n",
    "final_zips = final_zips.drop(columns=[\"NAME\"])\n",
    "final_zips = final_zips.drop(columns=['GEO_ID'])"
   ]
  },
  {
   "cell_type": "code",
   "execution_count": 18,
   "id": "11df5297",
   "metadata": {
    "tags": []
   },
   "outputs": [],
   "source": [
    "new_final_zips=final_zips.to_string(index=False)\n"
   ]
  },
  {
   "cell_type": "code",
   "execution_count": 19,
   "id": "ed996b0e",
   "metadata": {
    "tags": []
   },
   "outputs": [
    {
     "data": {
      "text/plain": [
       "' Zip Code Total Households Median Income With Children Below Poverty Black or African American Hispanic or Latino Food Stamps\\n    19132             1698         20915          41.8          51.7                      36.9               57.7        71.7\\n    19121             1517         15267          26.4          51.0                      90.4                6.2        61.2\\n    19133             1107         20010          42.3          67.4                       5.0               60.4        72.6\\n    19134             1877         23031          42.9          54.9                       5.3               92.3        66.5\\n    19124             1343         22649          43.4          52.5                      44.8               31.6        60.4'"
      ]
     },
     "metadata": {},
     "output_type": "display_data"
    }
   ],
   "source": [
    "display(new_final_zips)"
   ]
  },
  {
   "cell_type": "code",
   "execution_count": 26,
   "id": "6836c51d",
   "metadata": {
    "tags": []
   },
   "outputs": [
    {
     "data": {
      "image/png": "[encoded data removed]",
      "text/plain": [
       "<Figure size 1000x800 with 3 Axes>"
      ]
     },
     "metadata": {},
     "output_type": "display_data"
    }
   ],
   "source": [
    "import pandas as pd\n",
    "import matplotlib.pyplot as plt\n",
    "\n",
    "# Assuming final_zips is your DataFrame containing the data\n",
    "\n",
    "# Convert columns to numeric\n",
    "columns_to_convert = ['Total Households', 'Median Income', 'With Children', \n",
    "                      'Below Poverty', 'Black or African American', 'Food Stamps']\n",
    "final_zips[columns_to_convert] = final_zips[columns_to_convert].apply(pd.to_numeric, errors='coerce')\n",
    "\n",
    "final_zips['Zip Code'] = final_zips['Zip Code'].astype(str)\n",
    "\n",
    "# Set up the plot\n",
    "plt.figure(figsize=(10, 8))\n",
    "\n",
    "# Plot Total Households\n",
    "plt.subplot(3, 1, 1)\n",
    "plt.bar(final_zips['Zip Code'], final_zips['Total Households'], color='blue', width=0.4)\n",
    "plt.xlabel('Zip Code')\n",
    "plt.ylabel('Total Households')\n",
    "plt.title('Total Households by Zip Code')\n",
    "\n",
    "# Set x-axis ticks to exact ZIP codes with adjusted positions\n",
    "plt.xticks(final_zips['Zip Code'], rotation=45, ha='right')\n",
    "\n",
    "# Plot Median Income\n",
    "plt.subplot(3, 1, 2)\n",
    "plt.bar(final_zips['Zip Code'], final_zips['Median Income'], color='green', width=0.4)\n",
    "plt.xlabel('Zip Code')\n",
    "plt.ylabel('Median Income')\n",
    "plt.title('Median Income by Zip Code')\n",
    "\n",
    "# Set x-axis ticks to exact ZIP codes with adjusted positions\n",
    "plt.xticks(final_zips['Zip Code'], rotation=45, ha='right')\n",
    "\n",
    "# Plot Other Attributes by Zip Code\n",
    "plt.subplot(3, 1, 3)\n",
    "for col in final_zips.columns[3:]:\n",
    "    plt.plot(final_zips['Zip Code'], final_zips[col], label=col)\n",
    "\n",
    "plt.xlabel('Zip Code')\n",
    "plt.ylabel('Percent Value')\n",
    "plt.title('Other Factors by Zip Code')\n",
    "plt.legend(loc='center left', bbox_to_anchor=(1,0.5))\n",
    "\n",
    "# Set x-axis ticks to exact ZIP codes with adjusted positions\n",
    "plt.xticks(final_zips['Zip Code'], rotation=45, ha='right')\n",
    "\n",
    "plt.yticks(range(0,101,5))\n",
    "\n",
    "# Adjust layout\n",
    "plt.tight_layout()\n",
    "\n",
    "# Show plot\n",
    "plt.show()\n",
    "\n",
    "\n",
    "\n"
   ]
  },
  {
   "cell_type": "code",
   "execution_count": null,
   "id": "94fa6244",
   "metadata": {},
   "outputs": [],
   "source": []
  },
  {
   "cell_type": "code",
   "execution_count": 27,
   "id": "0882ee12",
   "metadata": {
    "tags": []
   },
   "outputs": [
    {
     "name": "stdout",
     "output_type": "stream",
     "text": [
      "Zip Code  Total Households  Median Income  With Children  Below Poverty  Black or African American Hispanic or Latino  Food Stamps\n",
      "   19132              1698          20915           41.8           51.7                       36.9               57.7         71.7\n",
      "   19121              1517          15267           26.4           51.0                       90.4                6.2         61.2\n",
      "   19133              1107          20010           42.3           67.4                        5.0               60.4         72.6\n",
      "   19134              1877          23031           42.9           54.9                        5.3               92.3         66.5\n",
      "   19124              1343          22649           43.4           52.5                       44.8               31.6         60.4\n"
     ]
    }
   ],
   "source": [
    "print(final_zips.to_string(index=False))\n"
   ]
  },
  {
   "cell_type": "code",
   "execution_count": null,
   "id": "426697a4-3073-4d23-8473-e5b3331f712f",
   "metadata": {},
   "outputs": [],
   "source": []
  }
 ],
 "metadata": {
  "kernelspec": {
   "display_name": "Python 3 (ipykernel)",
   "language": "python",
   "name": "python3"
  },
  "language_info": {
   "codemirror_mode": {
    "name": "ipython",
    "version": 3
   },
   "file_extension": ".py",
   "mimetype": "text/x-python",
   "name": "python",
   "nbconvert_exporter": "python",
   "pygments_lexer": "ipython3",
   "version": "3.10.10"
  }
 },
 "nbformat": 4,
 "nbformat_minor": 5
}
